{
 "cells": [
  {
   "cell_type": "markdown",
   "metadata": {},
   "source": [
    "# Instructions\n",
    "The following code was designed in order to score motion/freezing data for a single video file. It allows for cropping of the video frame to reduce the influence of tethers. Motion is detected by capturing the number of pixels whose frame by frame grayscale change exceeds a user-defined motion threshold.  Freezing is then assessed by calculating when motion drops below a user-defined freezing threshold.  The user is able to visualize raw video, animal motion, and whether an animal is deemed to be freezing in order optimize parameters.  Final output is a csv that provides frame-by-frame motion and freezing across the session.  Additionally, a summary file can be generated that allows the user to get motion/freezing for specified time bins.  With the exception of setting the file path and a small number of parameters, the user can run through code.  \n",
    "\n",
    "***Once parameters are found that work well, batch processing of multiple videos can be performed using FreezeAnalysis_BatchProcess.ipynb.***"
   ]
  },
  {
   "cell_type": "markdown",
   "metadata": {},
   "source": [
    "---\n",
    "# 1. Load Necessary Packages\n",
    "The following code loads neccessary packages and need not be changed by the user."
   ]
  },
  {
   "cell_type": "code",
   "execution_count": null,
   "metadata": {},
   "outputs": [],
   "source": [
    "%load_ext autoreload\n",
    "%autoreload 2\n",
    "import os\n",
    "import holoviews as hv\n",
    "import numpy as np\n",
    "import pandas as pd\n",
    "import FreezeAnalysis_Functions as fz"
   ]
  },
  {
   "cell_type": "markdown",
   "metadata": {},
   "source": [
    "---\n",
    "# 2. User Sets Directory and File Information\n",
    "\n",
    "`dpath` : The directory path of the folder containing the video to be processed. Note that if you are using a Windows path with backslashes, place an ‘r’ in front of the directory path to avoid an error (e.g., r’\\Users\\DeniseCaiLab\\Videos’).\n",
    "\n",
    "`file` : The filename of the video, including the file extension.\n",
    "\n",
    "`start` : The frame of the video on which to begin processing.  0 is the first frame.  By knowing the video’s frame rate (e.g., 30 frames per second), the user can start processing the video at a specific timepoint.  For instance, to begin processing 20 seconds into the video, once the animal has been placed into the arena, one could enter 600 if the frame rate were 30 frames per second.  If you are uncertain of your video’s frame rate, this information will be printed by ezTrack when Cell 3 is run.\n",
    "\n",
    "`end` : The frame of the video to end processing on.  If the user would like to process from the start frame to the end of the video, this can be set to None.\n",
    "\n",
    "`dsmpl` : The amount to down-sample each frame.  If processing is going slow, down-sampling can help. A value of 1 indicates no down-sampling, while a value of 0.25 indicates that the frame will be down-sampled to ¼ the original size.  Note that if down-sampling is performed, all pixel coordinate output will be in the dimensions of the down-sampled video.\n",
    "\n",
    "`stretch` : Allows the user to alter the aspect ratio of the presented output.  This is useful when videos have irregular dimensions and are difficult to see (e.g., an aspect ratio of 1:100).  The width/height will be scaled by the factor provided. Note that this only affects the appearance of visualizations and does not modify the video or the interpretation of the output.\n",
    "\n",
    "***Processing going slow?  Consider downsampling!***  Often times tracking does not not require 1080p or whatever high def resolution videos are sometimes acquired using. Try setting `dsmpl` to something lower than 1 to implement downsampling (1=no downsampling). For example, if set to 0.25, each frame will be downsampled to 1/4 the original size.  Note that the same downsampling value should be used during calibration."
   ]
  },
  {
   "cell_type": "code",
   "execution_count": null,
   "metadata": {},
   "outputs": [],
   "source": [
    "video_dict = {\n",
    "    'dpath'   : \"./PracticeVideos\", # fix me\n",
    "    'file'    : 'LocationTracking_Clip.mp4', # fix me\n",
    "    'start'   : 0, \n",
    "    'end'     : None,\n",
    "    'dsmpl'   : 1,\n",
    "    'stretch' : dict(width=1, height=1)\n",
    "}"
   ]
  },
  {
   "cell_type": "markdown",
   "metadata": {},
   "source": [
    "---\n",
    "# 3. Load Video and Crop Frame if Desired\n",
    "To crop video frame, after running code below, select box selection tool beneath image (square with a plus sign).  To start drawing region to be included in analyis, double click image.  Double click again to finalize region.  If you decide to change region, it is best to rerun this cell and subsequent steps.\n",
    "\n",
    "If the size of the image is too small/large, alter the first line of code.  100 is the standard size.  200 will produce an image 2x the size, and so on."
   ]
  },
  {
   "cell_type": "code",
   "execution_count": null,
   "metadata": {},
   "outputs": [],
   "source": [
    "%%output size=100\n",
    "\n",
    "img_crp, video_dict = fz.LoadAndCrop(video_dict, cropmethod=\"Box\")\n",
    "img_crp"
   ]
  },
  {
   "cell_type": "markdown",
   "metadata": {},
   "source": [
    "---\n",
    "# 4. Analyze Motion Across Session"
   ]
  },
  {
   "cell_type": "markdown",
   "metadata": {},
   "source": [
    "### 4a. User Sets Motion Threshold\n",
    "Below, user sets `mt_cutoff`, the grayscale difference value required for a pixel to be counted as changing from one frame to the next. Can be determined using FreezeAnalysis_Calibration.ipynb."
   ]
  },
  {
   "cell_type": "code",
   "execution_count": null,
   "metadata": {},
   "outputs": [],
   "source": [
    "mt_cutoff = 10"
   ]
  },
  {
   "cell_type": "markdown",
   "metadata": {},
   "source": [
    "### 4b. Detect Motion and Plot\n",
    "Here, code loops through all frames and detects number of pixels whose grayscale change exceeds `mt_cutoff` per frame.  In addition to interactive plot options, one can also change the plot size by changing h and w in code below (e.g `h,w = 300,2000`)"
   ]
  },
  {
   "cell_type": "code",
   "execution_count": null,
   "metadata": {},
   "outputs": [],
   "source": [
    "%%output size=100\n",
    "\n",
    "h,w = 300,1000 \n",
    "\n",
    "Motion = fz.Measure_Motion(video_dict, mt_cutoff, SIGMA=1)  \n",
    "plt_mt = hv.Curve((np.arange(len(Motion)),Motion),'Frame','Pixel Change').opts(\n",
    "    height=h,width=w,line_width=1,color=\"steelblue\",title=\"Motion Across Session\")\n",
    "plt_mt"
   ]
  },
  {
   "cell_type": "markdown",
   "metadata": {},
   "source": [
    "---\n",
    "# 5. Analyze Session Freezing"
   ]
  },
  {
   "cell_type": "markdown",
   "metadata": {},
   "source": [
    "### 5a. User Selects Freezing Parameters\n",
    "Below user sets `FreezeThresh`, the upper bound in frame-by-frame pixels changed for freezing to be detected, and `MinDuration`, the number of frames motion must be below FreezeThresh to begin accruing freezing."
   ]
  },
  {
   "cell_type": "code",
   "execution_count": null,
   "metadata": {},
   "outputs": [],
   "source": [
    "FreezeThresh = 200 \n",
    "MinDuration = 15 "
   ]
  },
  {
   "cell_type": "markdown",
   "metadata": {},
   "source": [
    "### 5b. Measure Freezing and Save\n",
    "Freezing is calculated with cell below.  In addition to interactive plot options, one can also change the plot size by changing h and w in code below (e.g `h,w = 300,2000`)"
   ]
  },
  {
   "cell_type": "code",
   "execution_count": null,
   "metadata": {},
   "outputs": [],
   "source": [
    "%%output size=100\n",
    "\n",
    "h,w = 300,1000 \n",
    "\n",
    "Freezing = fz.Measure_Freezing(Motion,FreezeThresh,MinDuration)  \n",
    "fz.SaveData(video_dict,Motion,Freezing,mt_cutoff,FreezeThresh,MinDuration)\n",
    "print('Average Freezing: {x}%'.format(x=np.average(Freezing)))\n",
    "\n",
    "plt_fz = hv.Area(Freezing*(Motion.max()/100),'Frame','Motion').opts(\n",
    "    color='lightgray',line_width=0,line_alpha=0)\n",
    "plt_mt = hv.Curve((np.arange(len(Motion)),Motion),'Frame','Motion').opts(\n",
    "    height=h,width=w,line_width=1, color='steelblue',\n",
    "    title=\"Motion Across Session with Freezing Highlighted in Gray\")\n",
    "plt_fz*plt_mt"
   ]
  },
  {
   "cell_type": "markdown",
   "metadata": {},
   "source": [
    "---\n",
    "# 6. (Optional) Display Section of Video with Motion and Freezing\n",
    "***After analyzing freezing*** a section of the video can be replayed and the animal's state - \"Active/Freezing\" - will be displayed.  ). If the animal is freezing but said to be active, try increasing `FreezeThresh`.  If the animal is moving and said to be freezing, try decreasing FreezeThresh. When mt_cutoff is too low, pixel fluctuations not associated with the animal’s movement will be visible.  Alternatively, when mt_cutoff is too high, animal motion will be invisible or very low.\n",
    "\n",
    "`start` : The frame video playback is to be started on. Note that this is relative to the start of tracking, where 0 is the first tracked frame (the defined start frame from Cell 2)\n",
    "\n",
    "`stop` : The frame video playback is to end on.  Note that this is relative to the start of tracking, where 0 is the first tracked frame (the defined start frame from Cell 2)\n",
    "\n",
    "`fps` : The speed of video playback.  Must be an integer.  Video playback may also be slower depending upon computer speed.  This is because fps sets the time imposed between presented frames but cannot control the duration of time it will take a user’s computer to present each frame.\n",
    "\n",
    "`resize` : If the user wants the output to be larger or smaller, or they want the aspect ratio to be different, resize can be supplied as in the following example: `'resize’ : (100,200)`. Here, the first number corresponds to the adjusted width of the frame, whereas the second number corresponds to the adjusted height.  Both numbers reflect pixel units and should be integers. Set resize equal to None if no resizing is to be done.\n",
    "\n",
    "`save_video` : If the user would like to save the video clip, save_video can be set to True."
   ]
  },
  {
   "cell_type": "code",
   "execution_count": null,
   "metadata": {},
   "outputs": [],
   "source": [
    "display_dict = {\n",
    "    'start'      : 0, \n",
    "    'end'        : 100,\n",
    "    'fps'        : 30,\n",
    "    'resize'     : None,\n",
    "    'save_video' : False\n",
    "}\n",
    "\n",
    "fz.PlayVideo(video_dict,display_dict,Freezing,mt_cutoff,SIGMA=1)"
   ]
  },
  {
   "cell_type": "markdown",
   "metadata": {},
   "source": [
    "---\n",
    "# 7. (Optional) Create Binned Summary Report and Save\n",
    "The code below allows the user to either save a csv containing summary data for user-defined bins (e.g., % time freezing for each minute) or a session-wide average. \n",
    "\n",
    "***If you only want a session average***, set `bin_dict = None`\n",
    "\n",
    "**To specify bins**, set `bin_dict` using the following notation, where start and stop represent time ***in frames***.\n",
    "\n",
    "\n",
    "```\n",
    "bin_dict = {\n",
    "    'BinName1': (start, stop),\n",
    "    'BinName2': (start, stop),\n",
    "    'BinName3': (start, stop),\n",
    "}\n",
    "```"
   ]
  },
  {
   "cell_type": "code",
   "execution_count": null,
   "metadata": {},
   "outputs": [],
   "source": [
    "bin_dict = {\n",
    "    '1' : (0,10),\n",
    "    '2' : (10,20),\n",
    "    '3' : (20,30)\n",
    "}\n",
    "\n",
    "summary = fz.Summarize(video_dict,Motion,Freezing,FreezeThresh,MinDuration,mt_cutoff,bin_dict=bin_dict)\n",
    "summary.to_csv(os.path.splitext(video_dict['fpath'])[0] + '_SummaryStats.csv', index=False)\n",
    "summary"
   ]
  }
 ],
 "metadata": {
  "kernelspec": {
   "display_name": "Python 3",
   "language": "python",
   "name": "python3"
  },
  "language_info": {
   "codemirror_mode": {
    "name": "ipython",
    "version": 3
   },
   "file_extension": ".py",
   "mimetype": "text/x-python",
   "name": "python",
   "nbconvert_exporter": "python",
   "pygments_lexer": "ipython3",
   "version": "3.6.11"
  }
 },
 "nbformat": 4,
 "nbformat_minor": 2
}

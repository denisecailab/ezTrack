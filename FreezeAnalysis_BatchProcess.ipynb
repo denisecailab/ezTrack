{
 "cells": [
  {
   "cell_type": "markdown",
   "metadata": {},
   "source": [
    "# Instructions\n",
    "The following code was designed to score motion/freezing data from video multiple files in batch. This code should be run with carefully selected parameters using the more extensive visualization options provided in FreezeAnalysis.ipynb.  In addition to saving frame-by-frame motion/freezing information for each video in separate csv files, bins can also be defined for summarizing videos (e.g. minute by minute).  All summary information will be saved in a single file.  If no bins are defined, the code will automatically create a summary file that lists average session motion/freezing per video."
   ]
  },
  {
   "cell_type": "markdown",
   "metadata": {},
   "source": [
    "---\n",
    "# 1. Load Necessary Packages\n",
    "The following code loads neccessary packages and need not be changed by the user."
   ]
  },
  {
   "cell_type": "code",
   "execution_count": null,
   "metadata": {},
   "outputs": [],
   "source": [
    "%load_ext autoreload\n",
    "%autoreload 2\n",
    "import FreezeAnalysis_Functions as fz"
   ]
  },
  {
   "cell_type": "markdown",
   "metadata": {},
   "source": [
    "---\n",
    "# 2. User Sets Directory and Parameters for Motion/Freeze Analysis\n",
    "Note that all videos of particular type will be analyzed.  Videos should be of the same length if user is defining bins.  Videos should be the same fps and the same width/height."
   ]
  },
  {
   "cell_type": "code",
   "execution_count": null,
   "metadata": {},
   "outputs": [],
   "source": [
    "#Video information\n",
    "video_dict = {\n",
    "    'dpath'   : \"./PracticeVideos\", # fix me\n",
    "    'ftype'   : 'mp4', \n",
    "    'start'   : 0, \n",
    "    'end'     : None,\n",
    "    'dsmpl'   : 1,\n",
    "    'stretch' : dict(width=1, height=1)\n",
    "}\n",
    "\n",
    "#set bin_dict \n",
    "#set bin_dict = None if only overall session average is desired\n",
    "bin_dict = {\n",
    "    '1' : (0,10),\n",
    "    '2' : (10,20),\n",
    "    '3' : (20,30)\n",
    "}\n",
    "\n",
    "#Motion/Freezing parameters\n",
    "mt_cutoff = 10 \n",
    "FreezeThresh = 200\n",
    "MinDuration = 15 \n",
    "\n",
    "#code below loads folder with files. need not be changed. \n",
    "video_dict = fz.Batch_LoadFiles(video_dict)\n",
    "video_dict['FileNames']"
   ]
  },
  {
   "cell_type": "markdown",
   "metadata": {},
   "source": [
    "# 3. (Optional) Crop Image if Desired\n",
    "To crop video frame, after running code below, select box selection tool below image (square with a plus sign).  To start drawing region to be included in analyis, double click image.  Double click again to finalize region.  If you decide to change region, it is best to rerun this cell and subsequent steps.  Note that this is done based upon first video in folder.\n",
    "\n",
    "If the size of the image is too small/large, alter the first line of code.  100 is the standard size.  200 will produce an image 2x the size, and so on."
   ]
  },
  {
   "cell_type": "code",
   "execution_count": null,
   "metadata": {},
   "outputs": [],
   "source": [
    "%%output size=100\n",
    "\n",
    "img_crp, video_dict = fz.LoadAndCrop(video_dict, cropmethod='Box', fstfile=True)\n",
    "img_crp"
   ]
  },
  {
   "cell_type": "markdown",
   "metadata": {},
   "source": [
    "---\n",
    "# 3. Analyze Videos\n",
    "The code below will loop through all files of the specified type in the specified folder and analyzed them as desired.  The first 5 rows of the resulting file will be displayed."
   ]
  },
  {
   "cell_type": "code",
   "execution_count": null,
   "metadata": {},
   "outputs": [],
   "source": [
    "summary = fz.Batch(video_dict,bin_dict,mt_cutoff,FreezeThresh,MinDuration,SIGMA=1)\n",
    "summary.head()"
   ]
  }
 ],
 "metadata": {
  "kernelspec": {
   "display_name": "Python 3",
   "language": "python",
   "name": "python3"
  },
  "language_info": {
   "codemirror_mode": {
    "name": "ipython",
    "version": 3
   },
   "file_extension": ".py",
   "mimetype": "text/x-python",
   "name": "python",
   "nbconvert_exporter": "python",
   "pygments_lexer": "ipython3",
   "version": "3.6.11"
  }
 },
 "nbformat": 4,
 "nbformat_minor": 2
}
